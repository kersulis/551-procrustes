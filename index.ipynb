{
 "cells": [
  {
   "cell_type": "markdown",
   "metadata": {},
   "source": [
    "## EECS 453/551\n",
    "# Procrustes Analysis\n",
    "\n",
    "Imagine a disorganized mess of letters strewn across a desk. To organize these letters, you might gather them into a single pile and tap it against the desk until all the bottom edges line up. Mathematically, you are _translating_ the letters into a single pile, then _rotating_ until they overlap. Because the letters are all rectangular, you end up with a pile that looks like a single rectangle from the top.\n",
    "\n",
    "Now imagine your desk is an x-y plane, and each letter is represented by the coordinates of its four corners. How would you mathematically describe a way to organize the letters into one neat pile? And what if the letters were suspended in 3D space? As we learned in lecture, this is yet another seemingly daunting question that SVD answers elegantly.\n",
    "___"
   ]
  },
  {
   "cell_type": "markdown",
   "metadata": {},
   "source": [
    "_See [here][1] if you need to refresh the derivation we covered in lecture._\n",
    "\n",
    "[1]: https://en.wikipedia.org/wiki/Orthogonal_Procrustes_problem"
   ]
  },
  {
   "cell_type": "markdown",
   "metadata": {},
   "source": [
    "## Aligning digits"
   ]
  },
  {
   "cell_type": "code",
   "execution_count": null,
   "metadata": {
    "ExecuteTime": {
     "end_time": "2016-09-28T11:52:59.478164",
     "start_time": "2016-09-28T11:52:59.153833"
    },
    "collapsed": false
   },
   "outputs": [],
   "source": [
    "from mpl_toolkits.mplot3d import Axes3D\n",
    "import scipy.io as sio\n",
    "from procrustes import *\n",
    "\n",
    "%matplotlib notebook"
   ]
  },
  {
   "cell_type": "code",
   "execution_count": null,
   "metadata": {
    "ExecuteTime": {
     "end_time": "2016-09-28T11:53:05.093623",
     "start_time": "2016-09-28T11:53:04.977031"
    },
    "collapsed": false,
    "scrolled": false
   },
   "outputs": [],
   "source": [
    "d = sio.loadmat('digits_1.mat')\n",
    "# d = sio.loadmat('digits_2.mat')\n",
    "X, Y = d['X'], d['Y']\n",
    "\n",
    "# use function you wrote in hw:\n",
    "Ya = align(X, Y)\n",
    "\n",
    "# plot before and after\n",
    "fig = plt.figure(figsize=(6,6))\n",
    "ax1 = fig.add_subplot(111)\n",
    "plot_digits(X, Y, Ya)"
   ]
  },
  {
   "cell_type": "markdown",
   "metadata": {},
   "source": [
    "## Aligning Molecules"
   ]
  },
  {
   "cell_type": "code",
   "execution_count": null,
   "metadata": {
    "ExecuteTime": {
     "end_time": "2016-09-28T11:53:40.309079",
     "start_time": "2016-09-28T11:53:40.162171"
    },
    "collapsed": false
   },
   "outputs": [],
   "source": [
    "moleculeData = sio.loadmat('moleculeData.mat')['moleculeData'].T\n",
    "\n",
    "# plot n molecules\n",
    "n = 30\n",
    "fig = plt.figure(figsize=(8,5))\n",
    "ax1 = fig.add_subplot(111, projection='3d')\n",
    "plot_molecules(moleculeData[:n,:,:])"
   ]
  },
  {
   "cell_type": "code",
   "execution_count": null,
   "metadata": {
    "ExecuteTime": {
     "end_time": "2016-09-28T11:53:37.497132",
     "start_time": "2016-09-28T11:53:37.286955"
    },
    "collapsed": false,
    "scrolled": false
   },
   "outputs": [],
   "source": [
    "ashapes, sm = procrustes(moleculeData)\n",
    "\n",
    "# plot n aligned molecules\n",
    "n = 30\n",
    "fig = plt.figure(figsize=(8,5))\n",
    "ax1 = fig.add_subplot(111, projection='3d')\n",
    "plot_molecules(ashapes[:n,:,:])"
   ]
  }
 ],
 "metadata": {
  "anaconda-cloud": {},
  "kernelspec": {
   "display_name": "Python [default]",
   "language": "python",
   "name": "python3"
  },
  "language_info": {
   "codemirror_mode": {
    "name": "ipython",
    "version": 3
   },
   "file_extension": ".py",
   "mimetype": "text/x-python",
   "name": "python",
   "nbconvert_exporter": "python",
   "pygments_lexer": "ipython3",
   "version": "3.4.5"
  }
 },
 "nbformat": 4,
 "nbformat_minor": 1
}
